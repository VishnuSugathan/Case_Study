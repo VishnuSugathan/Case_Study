{
 "cells": [
  {
   "cell_type": "code",
   "execution_count": 227,
   "id": "7dbaee61",
   "metadata": {},
   "outputs": [],
   "source": [
    "import pandas as pd\n",
    "import matplotlib.pyplot as plt \n",
    "import numpy as np\n",
    "import seaborn as sns"
   ]
  },
  {
   "cell_type": "code",
   "execution_count": 183,
   "id": "7e0ba9cb",
   "metadata": {
    "scrolled": true
   },
   "outputs": [
    {
     "data": {
      "text/html": [
       "<div>\n",
       "<style scoped>\n",
       "    .dataframe tbody tr th:only-of-type {\n",
       "        vertical-align: middle;\n",
       "    }\n",
       "\n",
       "    .dataframe tbody tr th {\n",
       "        vertical-align: top;\n",
       "    }\n",
       "\n",
       "    .dataframe thead th {\n",
       "        text-align: right;\n",
       "    }\n",
       "</style>\n",
       "<table border=\"1\" class=\"dataframe\">\n",
       "  <thead>\n",
       "    <tr style=\"text-align: right;\">\n",
       "      <th></th>\n",
       "      <th>gender</th>\n",
       "      <th>race/ethnicity</th>\n",
       "      <th>parental level of education</th>\n",
       "      <th>lunch</th>\n",
       "      <th>test preparation course</th>\n",
       "      <th>math score</th>\n",
       "      <th>reading score</th>\n",
       "      <th>writing score</th>\n",
       "    </tr>\n",
       "  </thead>\n",
       "  <tbody>\n",
       "    <tr>\n",
       "      <th>0</th>\n",
       "      <td>female</td>\n",
       "      <td>group C</td>\n",
       "      <td>some high school</td>\n",
       "      <td>free/reduced</td>\n",
       "      <td>none</td>\n",
       "      <td>0</td>\n",
       "      <td>17</td>\n",
       "      <td>10</td>\n",
       "    </tr>\n",
       "    <tr>\n",
       "      <th>1</th>\n",
       "      <td>female</td>\n",
       "      <td>group B</td>\n",
       "      <td>high school</td>\n",
       "      <td>free/reduced</td>\n",
       "      <td>none</td>\n",
       "      <td>8</td>\n",
       "      <td>24</td>\n",
       "      <td>23</td>\n",
       "    </tr>\n",
       "    <tr>\n",
       "      <th>2</th>\n",
       "      <td>female</td>\n",
       "      <td>group B</td>\n",
       "      <td>some high school</td>\n",
       "      <td>free/reduced</td>\n",
       "      <td>none</td>\n",
       "      <td>18</td>\n",
       "      <td>32</td>\n",
       "      <td>28</td>\n",
       "    </tr>\n",
       "    <tr>\n",
       "      <th>3</th>\n",
       "      <td>female</td>\n",
       "      <td>group B</td>\n",
       "      <td>some college</td>\n",
       "      <td>standard</td>\n",
       "      <td>none</td>\n",
       "      <td>11</td>\n",
       "      <td>38</td>\n",
       "      <td>32</td>\n",
       "    </tr>\n",
       "    <tr>\n",
       "      <th>4</th>\n",
       "      <td>female</td>\n",
       "      <td>group C</td>\n",
       "      <td>some college</td>\n",
       "      <td>free/reduced</td>\n",
       "      <td>none</td>\n",
       "      <td>22</td>\n",
       "      <td>39</td>\n",
       "      <td>33</td>\n",
       "    </tr>\n",
       "    <tr>\n",
       "      <th>...</th>\n",
       "      <td>...</td>\n",
       "      <td>...</td>\n",
       "      <td>...</td>\n",
       "      <td>...</td>\n",
       "      <td>...</td>\n",
       "      <td>...</td>\n",
       "      <td>...</td>\n",
       "      <td>...</td>\n",
       "    </tr>\n",
       "    <tr>\n",
       "      <th>995</th>\n",
       "      <td>male</td>\n",
       "      <td>group E</td>\n",
       "      <td>some college</td>\n",
       "      <td>standard</td>\n",
       "      <td>completed</td>\n",
       "      <td>99</td>\n",
       "      <td>87</td>\n",
       "      <td>81</td>\n",
       "    </tr>\n",
       "    <tr>\n",
       "      <th>996</th>\n",
       "      <td>male</td>\n",
       "      <td>group A</td>\n",
       "      <td>some college</td>\n",
       "      <td>standard</td>\n",
       "      <td>completed</td>\n",
       "      <td>100</td>\n",
       "      <td>96</td>\n",
       "      <td>86</td>\n",
       "    </tr>\n",
       "    <tr>\n",
       "      <th>997</th>\n",
       "      <td>male</td>\n",
       "      <td>group D</td>\n",
       "      <td>some college</td>\n",
       "      <td>standard</td>\n",
       "      <td>completed</td>\n",
       "      <td>100</td>\n",
       "      <td>97</td>\n",
       "      <td>99</td>\n",
       "    </tr>\n",
       "    <tr>\n",
       "      <th>998</th>\n",
       "      <td>male</td>\n",
       "      <td>group E</td>\n",
       "      <td>associate's degree</td>\n",
       "      <td>free/reduced</td>\n",
       "      <td>completed</td>\n",
       "      <td>100</td>\n",
       "      <td>100</td>\n",
       "      <td>93</td>\n",
       "    </tr>\n",
       "    <tr>\n",
       "      <th>999</th>\n",
       "      <td>male</td>\n",
       "      <td>group E</td>\n",
       "      <td>bachelor's degree</td>\n",
       "      <td>standard</td>\n",
       "      <td>completed</td>\n",
       "      <td>100</td>\n",
       "      <td>100</td>\n",
       "      <td>100</td>\n",
       "    </tr>\n",
       "  </tbody>\n",
       "</table>\n",
       "<p>1000 rows × 8 columns</p>\n",
       "</div>"
      ],
      "text/plain": [
       "     gender race/ethnicity parental level of education         lunch  \\\n",
       "0    female        group C            some high school  free/reduced   \n",
       "1    female        group B                 high school  free/reduced   \n",
       "2    female        group B            some high school  free/reduced   \n",
       "3    female        group B                some college      standard   \n",
       "4    female        group C                some college  free/reduced   \n",
       "..      ...            ...                         ...           ...   \n",
       "995    male        group E                some college      standard   \n",
       "996    male        group A                some college      standard   \n",
       "997    male        group D                some college      standard   \n",
       "998    male        group E          associate's degree  free/reduced   \n",
       "999    male        group E           bachelor's degree      standard   \n",
       "\n",
       "    test preparation course  math score  reading score  writing score  \n",
       "0                      none           0             17             10  \n",
       "1                      none           8             24             23  \n",
       "2                      none          18             32             28  \n",
       "3                      none          11             38             32  \n",
       "4                      none          22             39             33  \n",
       "..                      ...         ...            ...            ...  \n",
       "995               completed          99             87             81  \n",
       "996               completed         100             96             86  \n",
       "997               completed         100             97             99  \n",
       "998               completed         100            100             93  \n",
       "999               completed         100            100            100  \n",
       "\n",
       "[1000 rows x 8 columns]"
      ]
     },
     "execution_count": 183,
     "metadata": {},
     "output_type": "execute_result"
    }
   ],
   "source": [
    "data = pd.read_csv(\"C:/Users/imins/Downloads/StudentsPerformance.csv\")\n",
    "\n",
    "data"
   ]
  },
  {
   "cell_type": "markdown",
   "id": "2d8c8db4",
   "metadata": {},
   "source": [
    "# 1. Find out how many males and females participated in the test.\n"
   ]
  },
  {
   "cell_type": "code",
   "execution_count": 184,
   "id": "86faa0b5",
   "metadata": {},
   "outputs": [
    {
     "name": "stdout",
     "output_type": "stream",
     "text": [
      "Total students participated in the test =  1000\n",
      "Number of Males participated in the test =  482\n",
      "Number of Females participated in the test =  518\n"
     ]
    }
   ],
   "source": [
    "dt = data.groupby('gender')['gender'].count()\n",
    "\n",
    "c = data['gender'].count()\n",
    "\n",
    "print('Total students participated in the test = ',c)\n",
    "print('Number of Males participated in the test = ',dt['male'])\n",
    "print('Number of Females participated in the test = ',dt['female'])"
   ]
  },
  {
   "cell_type": "markdown",
   "id": "0aa66db5",
   "metadata": {},
   "source": [
    "# 2. What do you think about the students' parental level of education?"
   ]
  },
  {
   "cell_type": "markdown",
   "id": "71f095f8",
   "metadata": {},
   "source": [
    "pe = data.groupby('parental level of education')['parental level of education'].count()\n",
    "\n",
    "pe1 = data.groupby('parental level of education')['parental level of education'].unique()\n",
    "\n",
    "plt.pie(pe,autopct='%1.1f%%',labels=pe1,radius=2)\n",
    "\n",
    "plt.show()\n",
    "\n",
    "print('Most parents have ',pe.idxmax(),'as the level of education')"
   ]
  },
  {
   "cell_type": "code",
   "execution_count": 193,
   "id": "8cac38c0",
   "metadata": {},
   "outputs": [
    {
     "data": {
      "image/png": "[encoded data removed]",
      "text/plain": [
       "<Figure size 432x288 with 1 Axes>"
      ]
     },
     "metadata": {},
     "output_type": "display_data"
    },
    {
     "name": "stdout",
     "output_type": "stream",
     "text": [
      "Most parents have  some college as the level of education\n"
     ]
    }
   ],
   "source": [
    "pe1 = data.groupby('parental level of education')['parental level of education'].count().reset_index(name='count')\n",
    "pe1.rename(columns={'parental level of education':'Parental_level_of_education'}, inplace=True)\n",
    "plt.pie(data=pe1, x=\"count\",labels='Parental_level_of_education', autopct = '%0.1f%%', radius=2)\n",
    "plt.show()\n",
    "print('Most parents have ',pe.idxmax(),'as the level of education')\n"
   ]
  },
  {
   "cell_type": "markdown",
   "id": "d01757c9",
   "metadata": {},
   "source": [
    "# 3. Who scores the most on average for math, reading and writing based on"
   ]
  },
  {
   "cell_type": "markdown",
   "id": "396f0ff5",
   "metadata": {},
   "source": [
    "## a. Gender"
   ]
  },
  {
   "cell_type": "markdown",
   "id": "d39cf678",
   "metadata": {},
   "source": [
    "### For Maths"
   ]
  },
  {
   "cell_type": "code",
   "execution_count": 90,
   "id": "925bb6de",
   "metadata": {},
   "outputs": [
    {
     "name": "stdout",
     "output_type": "stream",
     "text": [
      "male scores the highest average of 68.82157676348548 in maths score\n"
     ]
    }
   ],
   "source": [
    "gm = data.groupby('gender')['math score'].mean()\n",
    "\n",
    "\n",
    "\n",
    "print(gm.idxmax(),'scores the highest average of',gm.max(),'in maths score')"
   ]
  },
  {
   "cell_type": "markdown",
   "id": "60b15b42",
   "metadata": {},
   "source": [
    "### For Reading"
   ]
  },
  {
   "cell_type": "code",
   "execution_count": 93,
   "id": "03bb8f7c",
   "metadata": {},
   "outputs": [
    {
     "name": "stdout",
     "output_type": "stream",
     "text": [
      "female scores the highest average of 68.82157676348548 in reading score\n"
     ]
    }
   ],
   "source": [
    "gr = data.groupby('gender')['reading score'].mean()\n",
    "\n",
    "\n",
    "\n",
    "print(gr.idxmax(),'scores the highest average of',gm.max(),'in reading score')"
   ]
  },
  {
   "cell_type": "markdown",
   "id": "27c477d3",
   "metadata": {},
   "source": [
    "### For Writing"
   ]
  },
  {
   "cell_type": "code",
   "execution_count": 96,
   "id": "809c5de5",
   "metadata": {},
   "outputs": [
    {
     "name": "stdout",
     "output_type": "stream",
     "text": [
      "female scores the highest average of 72.46718146718146 in writing score\n"
     ]
    }
   ],
   "source": [
    "gw = data.groupby('gender')['writing score'].mean()\n",
    "\n",
    "\n",
    "\n",
    "print(gw.idxmax(),'scores the highest average of',gw.max(),'in writing score')"
   ]
  },
  {
   "cell_type": "markdown",
   "id": "7371a8fd",
   "metadata": {},
   "source": [
    "### Overall"
   ]
  },
  {
   "cell_type": "code",
   "execution_count": 114,
   "id": "4d945bd4",
   "metadata": {},
   "outputs": [
    {
     "name": "stdout",
     "output_type": "stream",
     "text": [
      "Overall female scores the most with an average of 69.47812097812097\n"
     ]
    }
   ],
   "source": [
    "g = data.groupby('gender')[['math score','reading score','writing score']].mean()\n",
    "\n",
    "\n",
    "\n",
    "o = g.mean(axis=1)\n",
    "\n",
    "print('Overall', o.idxmax(),'scores the most with an average of',o.max())"
   ]
  },
  {
   "cell_type": "markdown",
   "id": "9a4b30e8",
   "metadata": {},
   "source": [
    "## b. Test preparation course"
   ]
  },
  {
   "cell_type": "markdown",
   "id": "d5c78088",
   "metadata": {},
   "source": [
    "### For Maths"
   ]
  },
  {
   "cell_type": "code",
   "execution_count": 196,
   "id": "576faca3",
   "metadata": {},
   "outputs": [
    {
     "name": "stdout",
     "output_type": "stream",
     "text": [
      "With an average of 69.96648044692738 test preparation course in maths score is completed\n"
     ]
    }
   ],
   "source": [
    "tm = data.groupby('test preparation course')['math score'].mean()\n",
    "\n",
    "\n",
    "\n",
    "print('With an average of',tm.max(),'test preparation course in maths score is',tm.idxmax())"
   ]
  },
  {
   "cell_type": "markdown",
   "id": "8690d56b",
   "metadata": {},
   "source": [
    "### For Reading"
   ]
  },
  {
   "cell_type": "code",
   "execution_count": 197,
   "id": "7ad77244",
   "metadata": {},
   "outputs": [
    {
     "name": "stdout",
     "output_type": "stream",
     "text": [
      "With an average of 74.17597765363128 test preparation course in reading score is completed\n"
     ]
    }
   ],
   "source": [
    "tr = data.groupby('test preparation course')['reading score'].mean()\n",
    "\n",
    "\n",
    "\n",
    "print('With an average of',tr.max(),'test preparation course in reading score is',tr.idxmax())"
   ]
  },
  {
   "cell_type": "markdown",
   "id": "808199ce",
   "metadata": {},
   "source": [
    "### For Writing"
   ]
  },
  {
   "cell_type": "code",
   "execution_count": 198,
   "id": "9043f916",
   "metadata": {},
   "outputs": [
    {
     "name": "stdout",
     "output_type": "stream",
     "text": [
      "With an average of 74.68435754189944 test preparation course in writing score is completed\n"
     ]
    }
   ],
   "source": [
    "tw = data.groupby('test preparation course')['writing score'].mean()\n",
    "\n",
    "\n",
    "\n",
    "print('With an average of',tw.max(),'test preparation course in writing score is',tw.idxmax())"
   ]
  },
  {
   "cell_type": "markdown",
   "id": "fe481cf4",
   "metadata": {},
   "source": [
    "### Overall"
   ]
  },
  {
   "cell_type": "code",
   "execution_count": 202,
   "id": "5e650523",
   "metadata": {},
   "outputs": [
    {
     "name": "stdout",
     "output_type": "stream",
     "text": [
      "Overall 72.94227188081936 has completed test preperation course\n"
     ]
    }
   ],
   "source": [
    "t = data.groupby('test preparation course')[['math score','reading score','writing score']].mean()\n",
    "\n",
    "\n",
    "\n",
    "ot = t.mean(axis=1)\n",
    "\n",
    "print('Overall', ot.max(),'has',ot.idxmax(),'test preperation course')"
   ]
  },
  {
   "cell_type": "markdown",
   "id": "0b4ee9ce",
   "metadata": {},
   "source": [
    "# 4. What do you think about the scoring variation for math, reading and writing based on"
   ]
  },
  {
   "cell_type": "markdown",
   "id": "cf091002",
   "metadata": {},
   "source": [
    "## a. Gender"
   ]
  },
  {
   "cell_type": "markdown",
   "id": "58d41592",
   "metadata": {},
   "source": [
    "### For Maths"
   ]
  },
  {
   "cell_type": "code",
   "execution_count": 207,
   "id": "fb87ca54",
   "metadata": {},
   "outputs": [
    {
     "name": "stdout",
     "output_type": "stream",
     "text": [
      "male scores the highest variation of 14.556410851750073 in maths score\n"
     ]
    }
   ],
   "source": [
    "sm = data.groupby('gender')['math score'].std()\n",
    "print(sm.idxmin(),'scores the highest variation of',sm.min(),'in maths score')\n",
    "\n",
    "\n"
   ]
  },
  {
   "cell_type": "markdown",
   "id": "90cde5a1",
   "metadata": {},
   "source": [
    "### For Writing"
   ]
  },
  {
   "cell_type": "code",
   "execution_count": 209,
   "id": "06dd89ce",
   "metadata": {},
   "outputs": [
    {
     "name": "stdout",
     "output_type": "stream",
     "text": [
      "male scores the highest variation of 14.227224751791551 in writing score\n"
     ]
    }
   ],
   "source": [
    "sw = data.groupby('gender')['writing score'].std()\n",
    "print(sw.idxmin(),'scores the highest variation of',sw.min(),'in writing score')\n",
    "\n",
    "\n"
   ]
  },
  {
   "cell_type": "markdown",
   "id": "492092ea",
   "metadata": {},
   "source": [
    "### For Reading"
   ]
  },
  {
   "cell_type": "code",
   "execution_count": 210,
   "id": "06e1418d",
   "metadata": {},
   "outputs": [
    {
     "name": "stdout",
     "output_type": "stream",
     "text": [
      "male scores the highest variation of 14.149593990092221 in reading score\n"
     ]
    }
   ],
   "source": [
    "sr = data.groupby('gender')['reading score'].std()\n",
    "print(sr.idxmin(),'scores the highest variation of',sr.min(),'in reading score')\n",
    "\n",
    "\n"
   ]
  },
  {
   "cell_type": "markdown",
   "id": "889074a8",
   "metadata": {},
   "source": [
    "### Overall"
   ]
  },
  {
   "cell_type": "code",
   "execution_count": 212,
   "id": "5e6e9b11",
   "metadata": {},
   "outputs": [
    {
     "name": "stdout",
     "output_type": "stream",
     "text": [
      "Overall male scores the most with variation of 65.93775933609959\n"
     ]
    }
   ],
   "source": [
    "sg = data.groupby('gender')[['math score','reading score','writing score']].std()\n",
    "\n",
    "\n",
    "\n",
    "og = sg.mean(axis=1)\n",
    "\n",
    "print('Overall', og.idxmin(),'scores the most with variation of',o.min())"
   ]
  },
  {
   "cell_type": "markdown",
   "id": "af760a67",
   "metadata": {},
   "source": [
    "## b. Test preparation course\n"
   ]
  },
  {
   "cell_type": "markdown",
   "id": "ed8f64a1",
   "metadata": {},
   "source": [
    "### For Maths"
   ]
  },
  {
   "cell_type": "code",
   "execution_count": 216,
   "id": "2e7b8646",
   "metadata": {},
   "outputs": [
    {
     "name": "stdout",
     "output_type": "stream",
     "text": [
      "With variation of 14.52184655455216 test preparation course in maths score is completed\n"
     ]
    }
   ],
   "source": [
    "tm = data.groupby('test preparation course')['math score'].std()\n",
    "\n",
    "\n",
    "\n",
    "print('With variation of',tm.min(),'test preparation course in maths score is',tm.idxmin())"
   ]
  },
  {
   "cell_type": "markdown",
   "id": "681520d6",
   "metadata": {},
   "source": [
    "### For Writing"
   ]
  },
  {
   "cell_type": "code",
   "execution_count": 217,
   "id": "83d73a90",
   "metadata": {},
   "outputs": [
    {
     "name": "stdout",
     "output_type": "stream",
     "text": [
      "With variation of 13.23641234515475 test preparation course in writing score is completed\n"
     ]
    }
   ],
   "source": [
    "tw = data.groupby('test preparation course')['writing score'].std()\n",
    "\n",
    "\n",
    "\n",
    "print('With variation of',tw.min(),'test preparation course in writing score is',tw.idxmin())"
   ]
  },
  {
   "cell_type": "markdown",
   "id": "eed80a17",
   "metadata": {},
   "source": [
    "### For Reading"
   ]
  },
  {
   "cell_type": "code",
   "execution_count": 218,
   "id": "cff8db0b",
   "metadata": {},
   "outputs": [
    {
     "name": "stdout",
     "output_type": "stream",
     "text": [
      "With variation of 13.53757230405269 test preparation course in reading score is completed\n"
     ]
    }
   ],
   "source": [
    "tr = data.groupby('test preparation course')['reading score'].std()\n",
    "\n",
    "\n",
    "\n",
    "print('With variation of',tr.min(),'test preparation course in reading score is',tr.idxmin())"
   ]
  },
  {
   "cell_type": "markdown",
   "id": "c582cff9",
   "metadata": {},
   "source": [
    "### Overall"
   ]
  },
  {
   "cell_type": "code",
   "execution_count": 222,
   "id": "fe1cfb39",
   "metadata": {},
   "outputs": [
    {
     "name": "stdout",
     "output_type": "stream",
     "text": [
      "Overall 13.765277067919868 has completed variation in test preperation course\n"
     ]
    }
   ],
   "source": [
    "tt = data.groupby('test preparation course')[['math score','reading score','writing score']].std()\n",
    "\n",
    "\n",
    "\n",
    "ott = tt.mean(axis=1)\n",
    "\n",
    "print('Overall', ott.min(),'has',ott.idxmin(),'variation in test preperation course')"
   ]
  },
  {
   "cell_type": "markdown",
   "id": "1f269f6a",
   "metadata": {},
   "source": [
    "# 5. The management needs your help to give bonus points to the top 25% of students based on their maths score, so how will you help the management to achieve this.\n"
   ]
  },
  {
   "cell_type": "code",
   "execution_count": 224,
   "id": "dfe638b4",
   "metadata": {},
   "outputs": [
    {
     "data": {
      "text/html": [
       "<div>\n",
       "<style scoped>\n",
       "    .dataframe tbody tr th:only-of-type {\n",
       "        vertical-align: middle;\n",
       "    }\n",
       "\n",
       "    .dataframe tbody tr th {\n",
       "        vertical-align: top;\n",
       "    }\n",
       "\n",
       "    .dataframe thead th {\n",
       "        text-align: right;\n",
       "    }\n",
       "</style>\n",
       "<table border=\"1\" class=\"dataframe\">\n",
       "  <thead>\n",
       "    <tr style=\"text-align: right;\">\n",
       "      <th></th>\n",
       "      <th>gender</th>\n",
       "      <th>race/ethnicity</th>\n",
       "      <th>parental level of education</th>\n",
       "      <th>lunch</th>\n",
       "      <th>test preparation course</th>\n",
       "      <th>math score</th>\n",
       "      <th>reading score</th>\n",
       "      <th>writing score</th>\n",
       "    </tr>\n",
       "  </thead>\n",
       "  <tbody>\n",
       "    <tr>\n",
       "      <th>516</th>\n",
       "      <td>female</td>\n",
       "      <td>group E</td>\n",
       "      <td>bachelor's degree</td>\n",
       "      <td>standard</td>\n",
       "      <td>none</td>\n",
       "      <td>100</td>\n",
       "      <td>100</td>\n",
       "      <td>100</td>\n",
       "    </tr>\n",
       "    <tr>\n",
       "      <th>517</th>\n",
       "      <td>female</td>\n",
       "      <td>group E</td>\n",
       "      <td>associate's degree</td>\n",
       "      <td>standard</td>\n",
       "      <td>none</td>\n",
       "      <td>100</td>\n",
       "      <td>100</td>\n",
       "      <td>100</td>\n",
       "    </tr>\n",
       "    <tr>\n",
       "      <th>999</th>\n",
       "      <td>male</td>\n",
       "      <td>group E</td>\n",
       "      <td>bachelor's degree</td>\n",
       "      <td>standard</td>\n",
       "      <td>completed</td>\n",
       "      <td>100</td>\n",
       "      <td>100</td>\n",
       "      <td>100</td>\n",
       "    </tr>\n",
       "    <tr>\n",
       "      <th>998</th>\n",
       "      <td>male</td>\n",
       "      <td>group E</td>\n",
       "      <td>associate's degree</td>\n",
       "      <td>free/reduced</td>\n",
       "      <td>completed</td>\n",
       "      <td>100</td>\n",
       "      <td>100</td>\n",
       "      <td>93</td>\n",
       "    </tr>\n",
       "    <tr>\n",
       "      <th>997</th>\n",
       "      <td>male</td>\n",
       "      <td>group D</td>\n",
       "      <td>some college</td>\n",
       "      <td>standard</td>\n",
       "      <td>completed</td>\n",
       "      <td>100</td>\n",
       "      <td>97</td>\n",
       "      <td>99</td>\n",
       "    </tr>\n",
       "    <tr>\n",
       "      <th>...</th>\n",
       "      <td>...</td>\n",
       "      <td>...</td>\n",
       "      <td>...</td>\n",
       "      <td>...</td>\n",
       "      <td>...</td>\n",
       "      <td>...</td>\n",
       "      <td>...</td>\n",
       "      <td>...</td>\n",
       "    </tr>\n",
       "    <tr>\n",
       "      <th>853</th>\n",
       "      <td>male</td>\n",
       "      <td>group D</td>\n",
       "      <td>associate's degree</td>\n",
       "      <td>free/reduced</td>\n",
       "      <td>none</td>\n",
       "      <td>77</td>\n",
       "      <td>78</td>\n",
       "      <td>73</td>\n",
       "    </tr>\n",
       "    <tr>\n",
       "      <th>427</th>\n",
       "      <td>female</td>\n",
       "      <td>group D</td>\n",
       "      <td>associate's degree</td>\n",
       "      <td>standard</td>\n",
       "      <td>none</td>\n",
       "      <td>77</td>\n",
       "      <td>77</td>\n",
       "      <td>73</td>\n",
       "    </tr>\n",
       "    <tr>\n",
       "      <th>856</th>\n",
       "      <td>male</td>\n",
       "      <td>group E</td>\n",
       "      <td>some high school</td>\n",
       "      <td>standard</td>\n",
       "      <td>completed</td>\n",
       "      <td>77</td>\n",
       "      <td>76</td>\n",
       "      <td>77</td>\n",
       "    </tr>\n",
       "    <tr>\n",
       "      <th>855</th>\n",
       "      <td>male</td>\n",
       "      <td>group E</td>\n",
       "      <td>associate's degree</td>\n",
       "      <td>free/reduced</td>\n",
       "      <td>completed</td>\n",
       "      <td>77</td>\n",
       "      <td>69</td>\n",
       "      <td>68</td>\n",
       "    </tr>\n",
       "    <tr>\n",
       "      <th>426</th>\n",
       "      <td>female</td>\n",
       "      <td>group D</td>\n",
       "      <td>some college</td>\n",
       "      <td>standard</td>\n",
       "      <td>none</td>\n",
       "      <td>77</td>\n",
       "      <td>68</td>\n",
       "      <td>77</td>\n",
       "    </tr>\n",
       "  </tbody>\n",
       "</table>\n",
       "<p>250 rows × 8 columns</p>\n",
       "</div>"
      ],
      "text/plain": [
       "     gender race/ethnicity parental level of education         lunch  \\\n",
       "516  female        group E           bachelor's degree      standard   \n",
       "517  female        group E          associate's degree      standard   \n",
       "999    male        group E           bachelor's degree      standard   \n",
       "998    male        group E          associate's degree  free/reduced   \n",
       "997    male        group D                some college      standard   \n",
       "..      ...            ...                         ...           ...   \n",
       "853    male        group D          associate's degree  free/reduced   \n",
       "427  female        group D          associate's degree      standard   \n",
       "856    male        group E            some high school      standard   \n",
       "855    male        group E          associate's degree  free/reduced   \n",
       "426  female        group D                some college      standard   \n",
       "\n",
       "    test preparation course  math score  reading score  writing score  \n",
       "516                    none         100            100            100  \n",
       "517                    none         100            100            100  \n",
       "999               completed         100            100            100  \n",
       "998               completed         100            100             93  \n",
       "997               completed         100             97             99  \n",
       "..                      ...         ...            ...            ...  \n",
       "853                    none          77             78             73  \n",
       "427                    none          77             77             73  \n",
       "856               completed          77             76             77  \n",
       "855               completed          77             69             68  \n",
       "426                    none          77             68             77  \n",
       "\n",
       "[250 rows x 8 columns]"
      ]
     },
     "execution_count": 224,
     "metadata": {},
     "output_type": "execute_result"
    }
   ],
   "source": [
    "m = data.sort_values(by=['math score','reading score','writing score'],ascending=[False,False,False])\n",
    "m.head(round(len(data.index)*.25))"
   ]
  },
  {
   "cell_type": "code",
   "execution_count": 230,
   "id": "f615e480",
   "metadata": {},
   "outputs": [
    {
     "data": {
      "image/png": "[encoded data removed]",
      "text/plain": [
       "<Figure size 720x288 with 1 Axes>"
      ]
     },
     "metadata": {
      "needs_background": "light"
     },
     "output_type": "display_data"
    }
   ],
   "source": [
    "plt.figure(figsize = (10, 4))\n",
    "plt.title(\"Box plot for math score\")\n",
    "sns.boxplot(data=data, x='math score',linewidth=2)\n",
    "plt.show()"
   ]
  },
  {
   "cell_type": "code",
   "execution_count": null,
   "id": "96ab6b16",
   "metadata": {},
   "outputs": [],
   "source": []
  }
 ],
 "metadata": {
  "kernelspec": {
   "display_name": "Python 3 (ipykernel)",
   "language": "python",
   "name": "python3"
  },
  "language_info": {
   "codemirror_mode": {
    "name": "ipython",
    "version": 3
   },
   "file_extension": ".py",
   "mimetype": "text/x-python",
   "name": "python",
   "nbconvert_exporter": "python",
   "pygments_lexer": "ipython3",
   "version": "3.9.7"
  }
 },
 "nbformat": 4,
 "nbformat_minor": 5
}
